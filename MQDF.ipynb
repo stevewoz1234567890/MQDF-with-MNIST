{
 "cells": [
  {
   "cell_type": "code",
   "execution_count": 252,
   "id": "152a844b",
   "metadata": {},
   "outputs": [],
   "source": [
    "import gzip\n",
    "import numpy as np\n",
    "import math\n",
    "import matplotlib.pyplot as plt"
   ]
  },
  {
   "cell_type": "code",
   "execution_count": 253,
   "id": "ce7c9540",
   "metadata": {},
   "outputs": [],
   "source": [
    "# import mnist\n",
    "f = gzip.open('./train-images-idx3-ubyte.gz','r')\n",
    "image_size = 28\n",
    "num_images = 60000\n",
    "buf = f.read(image_size * image_size * num_images)\n",
    "X_train = np.frombuffer(buf, dtype=np.uint8).astype(np.float32)\n",
    "X_train = X_train.reshape(num_images, image_size*image_size)\n",
    "\n",
    "f = gzip.open('./train-labels-idx1-ubyte.gz','r')  \n",
    "buf = f.read(60000)\n",
    "y_train = np.frombuffer(buf, dtype=np.uint8).astype(np.int64)\n",
    "\n",
    "f = gzip.open('./t10k-images-idx3-ubyte.gz','r')\n",
    "image_size = 28\n",
    "num_images = 10000\n",
    "buf = f.read(image_size * image_size * num_images)\n",
    "X_test = np.frombuffer(buf, dtype=np.uint8).astype(np.float32)\n",
    "X_test = X_test.reshape(num_images, image_size*image_size, 1)\n",
    "\n",
    "f = gzip.open('./train-labels-idx1-ubyte.gz','r')  \n",
    "buf = f.read(60000)\n",
    "y_test = np.frombuffer(buf, dtype=np.uint8).astype(np.int64)"
   ]
  },
  {
   "cell_type": "code",
   "execution_count": 254,
   "id": "363cffb2",
   "metadata": {},
   "outputs": [],
   "source": [
    "# class name 0-9\n",
    "cla = [0,1,2,3,4,5,6,7,8,9]"
   ]
  },
  {
   "cell_type": "code",
   "execution_count": 255,
   "id": "2a9083f2",
   "metadata": {},
   "outputs": [],
   "source": [
    "# calculate info of class\n",
    "mean = [] # list of mean of class\n",
    "cov = [] # list of mean of covariance matrix of class\n",
    "for class_name in cla:\n",
    "    temp = X_train[y_train==class_name] # class i (number i)\n",
    "    temp_mean = temp.mean(axis=0) # calculate mean\n",
    "    mean.append(temp_mean)\n",
    "    temp_cov = np.cov(X_train[y_train==0].T) # calculate covairance\n",
    "    cov.append(temp_cov)"
   ]
  },
  {
   "cell_type": "code",
   "execution_count": 256,
   "id": "ec718e60",
   "metadata": {},
   "outputs": [],
   "source": [
    "def cal_eigen(h):\n",
    "    # calculate modify covariance\n",
    "    modify_covmatrix = []\n",
    "    for cov_ in cov:\n",
    "        cov_modefied = cov_ + h * h * np.identity(784)\n",
    "        modify_covmatrix.append(cov_modefied)\n",
    "\n",
    "    # calculate eigenvalues and eigenvectors\n",
    "    eigvals_list = []\n",
    "    eigvecs_list = []\n",
    "    for i in range(10):\n",
    "        eigvals, eigvecs = np.linalg.eig(modify_covmatrix[i])\n",
    "        eigvals_list.append(eigvals)\n",
    "        eigvecs_list.append(eigvecs)\n",
    "    return eigvals_list, eigvecs_list"
   ]
  },
  {
   "cell_type": "code",
   "execution_count": 257,
   "id": "084251e4",
   "metadata": {},
   "outputs": [],
   "source": [
    "# classify test data one by one\n",
    "def point_classification(x, eigvals_list, eigvecs_list):\n",
    "    class_value = [] # list of class\n",
    "    for i in range(10):\n",
    "        # calculate MADF by class\n",
    "        eigvals, eigvecs = eigvals_list[i], eigvecs_list[i] # calculate eigenvalue and eigenvector\n",
    "        mean[i].resize(784,1)\n",
    "        mqdf = 0\n",
    "        a = x-mean[i]\n",
    "        for j in range(len(eigvals)):\n",
    "            dot = 0\n",
    "            for jj in range(784):\n",
    "                dot += a[jj] * eigvecs[j][jj]\n",
    "            mqdf -= dot ** 2 / abs(eigvals[j])\n",
    "            mqdf -= math.log(abs(eigvals[j]))\n",
    "        class_value.append(mqdf)\n",
    "    result_x = class_value.index(max(class_value)) # calculate class has max value\n",
    "    return result_x"
   ]
  },
  {
   "cell_type": "code",
   "execution_count": 258,
   "id": "fcd28341",
   "metadata": {},
   "outputs": [],
   "source": [
    "# calculate accuracy using test data\n",
    "def predict(h):\n",
    "    eigvals_list, eigvecs_list = cal_eigen(h)\n",
    "    right_num = 0 # number of right calssified data\n",
    "    test_result = [] # store test result\n",
    "    for i in range(10000):\n",
    "        x = X_test[i]\n",
    "        result = point_classification(x, eigvals_list, eigvecs_list)\n",
    "        if result == y_test[i]:\n",
    "            right_num += 1\n",
    "        test_result.append(result)\n",
    "    score = right_num / 10000\n",
    "    return score, test_result"
   ]
  },
  {
   "cell_type": "code",
   "execution_count": 259,
   "id": "c2e7450c",
   "metadata": {},
   "outputs": [],
   "source": [
    "# hyperparameter (h) tuning\n",
    "h_list = [i/100 for i in range(1,10)]\n",
    "score_list = []\n",
    "test_result_list = []\n",
    "for h in h_list:\n",
    "    score, test_result = predict(h)\n",
    "    score_list.append(score)\n",
    "    test_result_list.append(test_result)"
   ]
  },
  {
   "cell_type": "code",
   "execution_count": 261,
   "id": "6e438fcf",
   "metadata": {},
   "outputs": [
    {
     "data": {
      "image/png": "[encoded data removed]",
      "text/plain": [
       "<Figure size 432x288 with 1 Axes>"
      ]
     },
     "metadata": {
      "needs_background": "light"
     },
     "output_type": "display_data"
    }
   ],
   "source": [
    "# save result as png\n",
    "plt.plot(h_list, score_list)\n",
    "plt.xlabel('h - value')\n",
    "plt.ylabel('acurracy')\n",
    "plt.savefig('result.png')"
   ]
  },
  {
   "cell_type": "code",
   "execution_count": 264,
   "id": "41145621",
   "metadata": {},
   "outputs": [],
   "source": [
    "# you can choose best h-value using result.png"
   ]
  },
  {
   "cell_type": "code",
   "execution_count": null,
   "id": "ae9ab333",
   "metadata": {},
   "outputs": [],
   "source": []
  },
  {
   "cell_type": "code",
   "execution_count": null,
   "id": "ff5701d1",
   "metadata": {},
   "outputs": [],
   "source": []
  },
  {
   "cell_type": "code",
   "execution_count": null,
   "id": "5e220159",
   "metadata": {},
   "outputs": [],
   "source": []
  },
  {
   "cell_type": "code",
   "execution_count": null,
   "id": "c97c6420",
   "metadata": {},
   "outputs": [],
   "source": []
  },
  {
   "cell_type": "code",
   "execution_count": null,
   "id": "284c878a",
   "metadata": {},
   "outputs": [],
   "source": []
  },
  {
   "cell_type": "code",
   "execution_count": null,
   "id": "27b5c5d8",
   "metadata": {},
   "outputs": [],
   "source": []
  },
  {
   "cell_type": "code",
   "execution_count": null,
   "id": "32cd9998",
   "metadata": {},
   "outputs": [],
   "source": []
  },
  {
   "cell_type": "code",
   "execution_count": null,
   "id": "52e9c573",
   "metadata": {},
   "outputs": [],
   "source": []
  },
  {
   "cell_type": "code",
   "execution_count": null,
   "id": "465451b1",
   "metadata": {},
   "outputs": [],
   "source": []
  },
  {
   "cell_type": "code",
   "execution_count": null,
   "id": "06a3e7cb",
   "metadata": {},
   "outputs": [],
   "source": []
  }
 ],
 "metadata": {
  "kernelspec": {
   "display_name": "Python 3",
   "language": "python",
   "name": "python3"
  },
  "language_info": {
   "codemirror_mode": {
    "name": "ipython",
    "version": 3
   },
   "file_extension": ".py",
   "mimetype": "text/x-python",
   "name": "python",
   "nbconvert_exporter": "python",
   "pygments_lexer": "ipython3",
   "version": "3.8.8"
  }
 },
 "nbformat": 4,
 "nbformat_minor": 5
}
